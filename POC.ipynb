{
 "cells": [
  {
   "cell_type": "code",
   "execution_count": 13,
   "id": "aac09fc4-a636-4db4-8581-ce30dc1dcf1a",
   "metadata": {},
   "outputs": [],
   "source": [
    "from selenium import webdriver\n",
    "from webdriver_manager.chrome import ChromeDriverManager\n",
    "from selenium.webdriver.common.by import By\n",
    "import requests\n",
    "import pandas as pd\n",
    "import random"
   ]
  },
  {
   "cell_type": "code",
   "execution_count": 69,
   "id": "45570b66-4ea0-4966-8ea8-28028a08eedd",
   "metadata": {},
   "outputs": [
    {
     "name": "stderr",
     "output_type": "stream",
     "text": [
      "[WDM] - \n",
      "\n",
      "[WDM] - ====== WebDriver manager ======\n",
      "[WDM] - Current google-chrome version is 95.0.4638\n",
      "[WDM] - Get LATEST driver version for 95.0.4638\n",
      "[WDM] - Driver [/Users/jacobwiebe/.wdm/drivers/chromedriver/mac64/95.0.4638.69/chromedriver] found in cache\n",
      "/var/folders/ns/zx2rsk6s2xv9dz3j97ymqvkm0000gn/T/ipykernel_9920/3354897213.py:1: DeprecationWarning: executable_path has been deprecated, please pass in a Service object\n",
      "  driver = webdriver.Chrome(ChromeDriverManager().install())\n"
     ]
    }
   ],
   "source": [
    "driver = webdriver.Chrome(ChromeDriverManager().install())\n",
    "driver.get('https://www.google.com.sg/search?q=people+waving&source=lnms&tbm=isch&sa=X&ei=0eZEVbj3IJG5uATalICQAQ&ved=0CAcQ_AUoAQ&biw=939&bih=591')"
   ]
  },
  {
   "cell_type": "code",
   "execution_count": null,
   "id": "c3f3482e-ca41-44fa-9e05-a34ebe65fc42",
   "metadata": {},
   "outputs": [],
   "source": [
    "type(driver)"
   ]
  },
  {
   "cell_type": "code",
   "execution_count": null,
   "id": "3d2cced7-236f-4e5e-8392-b20cea8647e3",
   "metadata": {},
   "outputs": [],
   "source": [
    "help(By)"
   ]
  },
  {
   "cell_type": "code",
   "execution_count": null,
   "id": "667114f7-3fb7-40ac-b1af-103622d98f78",
   "metadata": {},
   "outputs": [],
   "source": [
    "# imgs = [img.get_attribute('src') for img in driver.find_elements(By.XPATH, '//img')]"
   ]
  },
  {
   "cell_type": "code",
   "execution_count": 51,
   "id": "10b02372-864d-4250-9518-723219a8d33e",
   "metadata": {},
   "outputs": [],
   "source": [
    "rg_i_elements = driver.find_elements(By.CLASS_NAME, 'rg_i')\n"
   ]
  },
  {
   "cell_type": "code",
   "execution_count": 71,
   "id": "8f00acd4-bb22-4cfe-b7e6-d9ece24367ba",
   "metadata": {},
   "outputs": [
    {
     "data": {
      "text/plain": [
       "48"
      ]
     },
     "execution_count": 71,
     "metadata": {},
     "output_type": "execute_result"
    }
   ],
   "source": [
    "len(driver.find_elements(By.CLASS_NAME, 'rg_i'))"
   ]
  },
  {
   "cell_type": "code",
   "execution_count": 78,
   "id": "619959c9-0f29-4af5-97b7-5694627925f6",
   "metadata": {},
   "outputs": [],
   "source": [
    "def collect_images(driver, range_of_images, collected_images = []):\n",
    "    collected_images = driver.find_elements(By.CLASS_NAME, 'rg_i')\n",
    "    if range_of_images > len(collected_images):\n",
    "        driver.execute_script(\"window.scrollTo(0, document.body.scrollHeight);\")\n",
    "        collected_images = driver.find_elements(By.CLASS_NAME, 'rg_i')\n",
    "        collect_images(driver, range_of_images, collected_images)\n",
    "    return collected_images\n",
    "                              "
   ]
  },
  {
   "cell_type": "code",
   "execution_count": 73,
   "id": "92cd6151-a9e5-45c6-be2d-04e157ee51a8",
   "metadata": {},
   "outputs": [
    {
     "data": {
      "text/plain": [
       "300"
      ]
     },
     "execution_count": 77,
     "metadata": {},
     "output_type": "execute_result"
    }
   ],
   "source": [
    "images = collect_images(driver, 80)\n",
    "len(images)"
   ]
  },
  {
   "cell_type": "code",
   "execution_count": 75,
   "id": "6325f33a-d6ea-43de-9963-cf096b0ab15f",
   "metadata": {},
   "outputs": [
    {
     "data": {
      "text/plain": [
       "300"
      ]
     },
     "execution_count": 75,
     "metadata": {},
     "output_type": "execute_result"
    }
   ],
   "source": [
    "new_imgs = collect_images(driver, 150)\n",
    "len(new_imgs)"
   ]
  },
  {
   "cell_type": "code",
   "execution_count": 64,
   "id": "7ec25eb2-a4c0-4cc8-838d-c0f3d32b919c",
   "metadata": {},
   "outputs": [
    {
     "data": {
      "text/plain": [
       "48"
      ]
     },
     "execution_count": 64,
     "metadata": {},
     "output_type": "execute_result"
    }
   ],
   "source": [
    "len(images)"
   ]
  },
  {
   "cell_type": "code",
   "execution_count": 65,
   "id": "7d811c34-7834-47cd-ae58-f2161d88f21e",
   "metadata": {},
   "outputs": [
    {
     "data": {
      "text/plain": [
       "236"
      ]
     },
     "execution_count": 65,
     "metadata": {},
     "output_type": "execute_result"
    }
   ],
   "source": [
    "len(rg_i_elements)"
   ]
  },
  {
   "cell_type": "code",
   "execution_count": 6,
   "id": "54a45114-be20-4e54-a141-1b242c835a2c",
   "metadata": {},
   "outputs": [
    {
     "data": {
      "text/plain": [
       "selenium.webdriver.remote.webelement.WebElement"
      ]
     },
     "execution_count": 6,
     "metadata": {},
     "output_type": "execute_result"
    }
   ],
   "source": [
    "type(rg_i_elements[0])"
   ]
  },
  {
   "cell_type": "code",
   "execution_count": 7,
   "id": "9b7a37f5-423d-4041-954b-91af601e9a41",
   "metadata": {},
   "outputs": [],
   "source": [
    "rg_i_elements[10].click()"
   ]
  },
  {
   "cell_type": "code",
   "execution_count": 53,
   "id": "574e985c-0190-472d-93f6-a0318f1429e0",
   "metadata": {},
   "outputs": [],
   "source": [
    "driver.execute_script(\"arguments[0].scrollIntoView(true);\", rg_i_elements[100])"
   ]
  },
  {
   "cell_type": "code",
   "execution_count": 37,
   "id": "b198d0b8-1b91-4740-8ce6-0de993c8f20c",
   "metadata": {},
   "outputs": [],
   "source": [
    "driver.execute_script(\"window.scrollTo(0, document.body.scrollHeight/2);\")"
   ]
  },
  {
   "cell_type": "code",
   "execution_count": 30,
   "id": "6b783955-bbaf-45f5-983e-2ddc43245f60",
   "metadata": {},
   "outputs": [],
   "source": [
    "def return_random_range():\n",
    "    start = random.uniform(0,800)\n",
    "    end = random.uniform(0,800)\n",
    "    return f\"({start}, {end})\""
   ]
  },
  {
   "cell_type": "code",
   "execution_count": 35,
   "id": "08f8f4e5-c49a-4c5c-8544-437d11d21f0e",
   "metadata": {},
   "outputs": [
    {
     "data": {
      "text/plain": [
       "'(293.09750442854147, 156.57801578227665)'"
      ]
     },
     "execution_count": 35,
     "metadata": {},
     "output_type": "execute_result"
    }
   ],
   "source": [
    "return_random_range()"
   ]
  },
  {
   "cell_type": "code",
   "execution_count": 39,
   "id": "2ca5be1f-5ffd-422a-9968-8e09d3b83a2f",
   "metadata": {},
   "outputs": [
    {
     "data": {
      "text/plain": [
       "'window.scrollTo<function return_random_range at 0x11767c5e0>;'"
      ]
     },
     "execution_count": 39,
     "metadata": {},
     "output_type": "execute_result"
    }
   ],
   "source": [
    "f\"window.scrollTo{return_random_range};\""
   ]
  },
  {
   "cell_type": "code",
   "execution_count": 43,
   "id": "174c5f6e-7232-4ba4-b195-a2623b5fa35f",
   "metadata": {},
   "outputs": [],
   "source": [
    "driver.execute_script(f\"window.scrollTo{return_random_range()};\")"
   ]
  },
  {
   "cell_type": "code",
   "execution_count": 48,
   "id": "86cfab8e-284f-48db-bfe5-61f4e6ad6119",
   "metadata": {},
   "outputs": [
    {
     "data": {
      "text/plain": [
       "12864"
      ]
     },
     "execution_count": 48,
     "metadata": {},
     "output_type": "execute_result"
    }
   ],
   "source": [
    "driver.execute_script(\"return document.body.scrollHeight\")"
   ]
  },
  {
   "cell_type": "code",
   "execution_count": 47,
   "id": "9933212f-bbe6-47f7-8729-832ab909dfd2",
   "metadata": {},
   "outputs": [],
   "source": [
    "driver.execute_script(\"window.scrollTo(0, document.body.scrollHeight);\")"
   ]
  },
  {
   "cell_type": "code",
   "execution_count": null,
   "id": "c111856c-6626-402a-a779-d1c2781982bb",
   "metadata": {},
   "outputs": [],
   "source": [
    "pic = driver.find_elements(By.CLASS_NAME, 'v4dQwb')\n",
    "url = pic[1].find_elements(By.CLASS_NAME, 'n3VNCb')[0].get_attribute('src')\n",
    "url"
   ]
  },
  {
   "cell_type": "code",
   "execution_count": null,
   "id": "f20b387b-29ac-41c7-b192-6d028d6023c1",
   "metadata": {
    "tags": []
   },
   "outputs": [],
   "source": [
    "requests.get(url).content"
   ]
  },
  {
   "cell_type": "code",
   "execution_count": null,
   "id": "6b006441-78cd-4ef5-a9cc-4c4e37ef3b0b",
   "metadata": {},
   "outputs": [],
   "source": [
    "requests.get(url)"
   ]
  },
  {
   "cell_type": "code",
   "execution_count": null,
   "id": "2931f8e6-86b0-43f8-b3fa-d3979456a516",
   "metadata": {},
   "outputs": [],
   "source": [
    "import uuid\n",
    "filename = str(uuid.uuid4())\n",
    "filename"
   ]
  },
  {
   "cell_type": "code",
   "execution_count": null,
   "id": "3185358c-e1da-411a-b573-00bf493f8a65",
   "metadata": {},
   "outputs": [],
   "source": [
    "import random"
   ]
  },
  {
   "cell_type": "code",
   "execution_count": null,
   "id": "bd68a41e-a5c0-4a1c-8260-a413ead3e0d3",
   "metadata": {},
   "outputs": [],
   "source": [
    "IMG_NUM = 4\n",
    "random.sample(range(0, len(rg_i_elements)), IMG_NUM)"
   ]
  },
  {
   "cell_type": "code",
   "execution_count": 1,
   "id": "d14fe7d4-6eb2-4a6e-b83b-10eca1abb860",
   "metadata": {},
   "outputs": [
    {
     "data": {
      "text/plain": [
       "'this/that'"
      ]
     },
     "execution_count": 1,
     "metadata": {},
     "output_type": "execute_result"
    }
   ],
   "source": [
    "from os import path\n",
    "path.join('this', 'that')"
   ]
  },
  {
   "cell_type": "code",
   "execution_count": 2,
   "id": "8f0a1c6d-fa96-4c70-8b6c-7cdd5786c1d0",
   "metadata": {},
   "outputs": [
    {
     "data": {
      "text/plain": [
       "'/Users/jacobwiebe/PycharmProjects/seleniumgoogleimage'"
      ]
     },
     "execution_count": 2,
     "metadata": {},
     "output_type": "execute_result"
    }
   ],
   "source": [
    "import os\n",
    "os.getcwd()"
   ]
  },
  {
   "cell_type": "code",
   "execution_count": 7,
   "id": "e50c6974-9cf3-4019-b2e3-f9feb3cba829",
   "metadata": {},
   "outputs": [
    {
     "ename": "FileNotFoundError",
     "evalue": "[Errno 2] No such file or directory: '.\\\\downloads/test.txt'",
     "output_type": "error",
     "traceback": [
      "\u001b[0;31m---------------------------------------------------------------------------\u001b[0m",
      "\u001b[0;31mFileNotFoundError\u001b[0m                         Traceback (most recent call last)",
      "\u001b[0;32m/var/folders/ns/zx2rsk6s2xv9dz3j97ymqvkm0000gn/T/ipykernel_7798/2556669971.py\u001b[0m in \u001b[0;36m<module>\u001b[0;34m\u001b[0m\n\u001b[0;32m----> 1\u001b[0;31m \u001b[0;32mwith\u001b[0m \u001b[0mopen\u001b[0m\u001b[0;34m(\u001b[0m\u001b[0mpath\u001b[0m\u001b[0;34m.\u001b[0m\u001b[0mjoin\u001b[0m\u001b[0;34m(\u001b[0m\u001b[0;34m'.\\downloads'\u001b[0m\u001b[0;34m,\u001b[0m \u001b[0;34m'test.txt'\u001b[0m\u001b[0;34m)\u001b[0m\u001b[0;34m,\u001b[0m \u001b[0;34m'w'\u001b[0m\u001b[0;34m)\u001b[0m \u001b[0;32mas\u001b[0m \u001b[0mf\u001b[0m\u001b[0;34m:\u001b[0m\u001b[0;34m\u001b[0m\u001b[0;34m\u001b[0m\u001b[0m\n\u001b[0m\u001b[1;32m      2\u001b[0m     \u001b[0mf\u001b[0m\u001b[0;34m.\u001b[0m\u001b[0mwrite\u001b[0m\u001b[0;34m(\u001b[0m\u001b[0;34m'this is a test'\u001b[0m\u001b[0;34m)\u001b[0m\u001b[0;34m\u001b[0m\u001b[0;34m\u001b[0m\u001b[0m\n",
      "\u001b[0;31mFileNotFoundError\u001b[0m: [Errno 2] No such file or directory: '.\\\\downloads/test.txt'"
     ]
    }
   ],
   "source": [
    "with open(path.join('.\\downloads', 'test.txt'), 'w') as f:\n",
    "    f.write('this is a test')"
   ]
  },
  {
   "cell_type": "code",
   "execution_count": 31,
   "id": "bc687490-f1a7-46b9-8ca9-ee07011d7c4f",
   "metadata": {},
   "outputs": [
    {
     "data": {
      "text/plain": [
       "1.427666253696997"
      ]
     },
     "execution_count": 31,
     "metadata": {},
     "output_type": "execute_result"
    }
   ],
   "source": [
    "import random\n",
    "random.uniform(1, 2)"
   ]
  },
  {
   "cell_type": "code",
   "execution_count": null,
   "id": "72e9bac4-1f59-4853-9924-b1d09991d5b7",
   "metadata": {},
   "outputs": [],
   "source": []
  },
  {
   "cell_type": "code",
   "execution_count": null,
   "id": "fbaa6889-84e0-4e18-923c-a6d84fbe5be9",
   "metadata": {},
   "outputs": [],
   "source": []
  }
 ],
 "metadata": {
  "kernelspec": {
   "display_name": "Python 3 (ipykernel)",
   "language": "python",
   "name": "python3"
  },
  "language_info": {
   "codemirror_mode": {
    "name": "ipython",
    "version": 3
   },
   "file_extension": ".py",
   "mimetype": "text/x-python",
   "name": "python",
   "nbconvert_exporter": "python",
   "pygments_lexer": "ipython3",
   "version": "3.9.7"
  }
 },
 "nbformat": 4,
 "nbformat_minor": 5
}
