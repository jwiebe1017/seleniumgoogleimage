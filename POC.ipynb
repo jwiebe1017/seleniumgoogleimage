{
 "cells": [
  {
   "cell_type": "code",
   "execution_count": 8,
   "id": "aac09fc4-a636-4db4-8581-ce30dc1dcf1a",
   "metadata": {},
   "outputs": [],
   "source": [
    "from selenium import webdriver\n",
    "from webdriver_manager.chrome import ChromeDriverManager\n",
    "from selenium.webdriver.common.by import By\n",
    "import requests\n",
    "import pandas as pd"
   ]
  },
  {
   "cell_type": "code",
   "execution_count": 9,
   "id": "45570b66-4ea0-4966-8ea8-28028a08eedd",
   "metadata": {},
   "outputs": [
    {
     "name": "stderr",
     "output_type": "stream",
     "text": [
      "[WDM] - \n",
      "\n",
      "[WDM] - ====== WebDriver manager ======\n",
      "[WDM] - Current google-chrome version is 95.0.4638\n",
      "[WDM] - Get LATEST driver version for 95.0.4638\n",
      "[WDM] - Driver [/Users/jacobwiebe/.wdm/drivers/chromedriver/mac64/95.0.4638.54/chromedriver] found in cache\n",
      "/var/folders/ns/zx2rsk6s2xv9dz3j97ymqvkm0000gn/T/ipykernel_7798/3354897213.py:1: DeprecationWarning: executable_path has been deprecated, please pass in a Service object\n",
      "  driver = webdriver.Chrome(ChromeDriverManager().install())\n"
     ]
    }
   ],
   "source": [
    "driver = webdriver.Chrome(ChromeDriverManager().install())\n",
    "driver.get('https://www.google.com.sg/search?q=people+waving&source=lnms&tbm=isch&sa=X&ei=0eZEVbj3IJG5uATalICQAQ&ved=0CAcQ_AUoAQ&biw=939&bih=591')"
   ]
  },
  {
   "cell_type": "code",
   "execution_count": null,
   "id": "c3f3482e-ca41-44fa-9e05-a34ebe65fc42",
   "metadata": {},
   "outputs": [],
   "source": [
    "type(driver)"
   ]
  },
  {
   "cell_type": "code",
   "execution_count": null,
   "id": "3d2cced7-236f-4e5e-8392-b20cea8647e3",
   "metadata": {},
   "outputs": [],
   "source": [
    "help(By)"
   ]
  },
  {
   "cell_type": "code",
   "execution_count": null,
   "id": "667114f7-3fb7-40ac-b1af-103622d98f78",
   "metadata": {},
   "outputs": [],
   "source": [
    "imgs = [img.get_attribute('src') for img in driver.find_elements(By.XPATH, '//img')]"
   ]
  },
  {
   "cell_type": "code",
   "execution_count": 10,
   "id": "10b02372-864d-4250-9518-723219a8d33e",
   "metadata": {},
   "outputs": [],
   "source": [
    "rg_i_elements = driver.find_elements(By.CLASS_NAME, 'rg_i')\n"
   ]
  },
  {
   "cell_type": "code",
   "execution_count": null,
   "id": "7d811c34-7834-47cd-ae58-f2161d88f21e",
   "metadata": {},
   "outputs": [],
   "source": [
    "len(rg_i_elements)"
   ]
  },
  {
   "cell_type": "code",
   "execution_count": null,
   "id": "54a45114-be20-4e54-a141-1b242c835a2c",
   "metadata": {},
   "outputs": [],
   "source": [
    "type(rg_i_elements[0])"
   ]
  },
  {
   "cell_type": "code",
   "execution_count": 32,
   "id": "9b7a37f5-423d-4041-954b-91af601e9a41",
   "metadata": {},
   "outputs": [],
   "source": [
    "rg_i_elements[10].click()"
   ]
  },
  {
   "cell_type": "code",
   "execution_count": 37,
   "id": "b198d0b8-1b91-4740-8ce6-0de993c8f20c",
   "metadata": {},
   "outputs": [],
   "source": [
    "driver.execute_script(\"window.scrollTo(0, document.body.scrollHeight/2);\")"
   ]
  },
  {
   "cell_type": "code",
   "execution_count": 35,
   "id": "9933212f-bbe6-47f7-8729-832ab909dfd2",
   "metadata": {},
   "outputs": [
    {
     "ename": "JavascriptException",
     "evalue": "Message: javascript error: Failed to execute 'scrollTo' on 'Window': The provided value is not of type 'ScrollToOptions'.\n  (Session info: chrome=95.0.4638.54)\nStacktrace:\n0   chromedriver                        0x00000001033fcc99 __gxx_personality_v0 + 579209\n1   chromedriver                        0x00000001033885f3 __gxx_personality_v0 + 102371\n2   chromedriver                        0x0000000102f4e288 chromedriver + 172680\n3   chromedriver                        0x0000000102f51101 chromedriver + 184577\n4   chromedriver                        0x0000000102f50f21 chromedriver + 184097\n5   chromedriver                        0x0000000102f51abd chromedriver + 187069\n6   chromedriver                        0x0000000102fb3ae3 chromedriver + 588515\n7   chromedriver                        0x0000000102fa0382 chromedriver + 508802\n8   chromedriver                        0x0000000102fb2eab chromedriver + 585387\n9   chromedriver                        0x0000000102fa0693 chromedriver + 509587\n10  chromedriver                        0x0000000102f76b7e chromedriver + 338814\n11  chromedriver                        0x0000000102f77ea5 chromedriver + 343717\n12  chromedriver                        0x00000001033b877f __gxx_personality_v0 + 299375\n13  chromedriver                        0x00000001033cf68a __gxx_personality_v0 + 393338\n14  chromedriver                        0x00000001033d58eb __gxx_personality_v0 + 418523\n15  chromedriver                        0x00000001033d0a2a __gxx_personality_v0 + 398362\n16  chromedriver                        0x00000001033ad34c __gxx_personality_v0 + 253244\n17  chromedriver                        0x00000001033ecc48 __gxx_personality_v0 + 513592\n18  chromedriver                        0x00000001033ecdd1 __gxx_personality_v0 + 513985\n19  chromedriver                        0x00000001034040c8 __gxx_personality_v0 + 608952\n20  libsystem_pthread.dylib             0x00007ff8180a1514 _pthread_start + 125\n21  libsystem_pthread.dylib             0x00007ff81809d02f thread_start + 15\n",
     "output_type": "error",
     "traceback": [
      "\u001b[0;31m---------------------------------------------------------------------------\u001b[0m",
      "\u001b[0;31mJavascriptException\u001b[0m                       Traceback (most recent call last)",
      "\u001b[0;32m/var/folders/ns/zx2rsk6s2xv9dz3j97ymqvkm0000gn/T/ipykernel_7798/299323724.py\u001b[0m in \u001b[0;36m<module>\u001b[0;34m\u001b[0m\n\u001b[0;32m----> 1\u001b[0;31m \u001b[0mdriver\u001b[0m\u001b[0;34m.\u001b[0m\u001b[0mexecute_script\u001b[0m\u001b[0;34m(\u001b[0m\u001b[0;34m\"window.scrollTo(0);\"\u001b[0m\u001b[0;34m)\u001b[0m\u001b[0;34m\u001b[0m\u001b[0;34m\u001b[0m\u001b[0m\n\u001b[0m",
      "\u001b[0;32m/opt/homebrew/lib/python3.9/site-packages/selenium/webdriver/remote/webdriver.py\u001b[0m in \u001b[0;36mexecute_script\u001b[0;34m(self, script, *args)\u001b[0m\n\u001b[1;32m    870\u001b[0m         \u001b[0mcommand\u001b[0m \u001b[0;34m=\u001b[0m \u001b[0mCommand\u001b[0m\u001b[0;34m.\u001b[0m\u001b[0mW3C_EXECUTE_SCRIPT\u001b[0m\u001b[0;34m\u001b[0m\u001b[0;34m\u001b[0m\u001b[0m\n\u001b[1;32m    871\u001b[0m \u001b[0;34m\u001b[0m\u001b[0m\n\u001b[0;32m--> 872\u001b[0;31m         return self.execute(command, {\n\u001b[0m\u001b[1;32m    873\u001b[0m             \u001b[0;34m'script'\u001b[0m\u001b[0;34m:\u001b[0m \u001b[0mscript\u001b[0m\u001b[0;34m,\u001b[0m\u001b[0;34m\u001b[0m\u001b[0;34m\u001b[0m\u001b[0m\n\u001b[1;32m    874\u001b[0m             'args': converted_args})['value']\n",
      "\u001b[0;32m/opt/homebrew/lib/python3.9/site-packages/selenium/webdriver/remote/webdriver.py\u001b[0m in \u001b[0;36mexecute\u001b[0;34m(self, driver_command, params)\u001b[0m\n\u001b[1;32m    416\u001b[0m         \u001b[0mresponse\u001b[0m \u001b[0;34m=\u001b[0m \u001b[0mself\u001b[0m\u001b[0;34m.\u001b[0m\u001b[0mcommand_executor\u001b[0m\u001b[0;34m.\u001b[0m\u001b[0mexecute\u001b[0m\u001b[0;34m(\u001b[0m\u001b[0mdriver_command\u001b[0m\u001b[0;34m,\u001b[0m \u001b[0mparams\u001b[0m\u001b[0;34m)\u001b[0m\u001b[0;34m\u001b[0m\u001b[0;34m\u001b[0m\u001b[0m\n\u001b[1;32m    417\u001b[0m         \u001b[0;32mif\u001b[0m \u001b[0mresponse\u001b[0m\u001b[0;34m:\u001b[0m\u001b[0;34m\u001b[0m\u001b[0;34m\u001b[0m\u001b[0m\n\u001b[0;32m--> 418\u001b[0;31m             \u001b[0mself\u001b[0m\u001b[0;34m.\u001b[0m\u001b[0merror_handler\u001b[0m\u001b[0;34m.\u001b[0m\u001b[0mcheck_response\u001b[0m\u001b[0;34m(\u001b[0m\u001b[0mresponse\u001b[0m\u001b[0;34m)\u001b[0m\u001b[0;34m\u001b[0m\u001b[0;34m\u001b[0m\u001b[0m\n\u001b[0m\u001b[1;32m    419\u001b[0m             response['value'] = self._unwrap_value(\n\u001b[1;32m    420\u001b[0m                 response.get('value', None))\n",
      "\u001b[0;32m/opt/homebrew/lib/python3.9/site-packages/selenium/webdriver/remote/errorhandler.py\u001b[0m in \u001b[0;36mcheck_response\u001b[0;34m(self, response)\u001b[0m\n\u001b[1;32m    241\u001b[0m                 \u001b[0malert_text\u001b[0m \u001b[0;34m=\u001b[0m \u001b[0mvalue\u001b[0m\u001b[0;34m[\u001b[0m\u001b[0;34m'alert'\u001b[0m\u001b[0;34m]\u001b[0m\u001b[0;34m.\u001b[0m\u001b[0mget\u001b[0m\u001b[0;34m(\u001b[0m\u001b[0;34m'text'\u001b[0m\u001b[0;34m)\u001b[0m\u001b[0;34m\u001b[0m\u001b[0;34m\u001b[0m\u001b[0m\n\u001b[1;32m    242\u001b[0m             \u001b[0;32mraise\u001b[0m \u001b[0mexception_class\u001b[0m\u001b[0;34m(\u001b[0m\u001b[0mmessage\u001b[0m\u001b[0;34m,\u001b[0m \u001b[0mscreen\u001b[0m\u001b[0;34m,\u001b[0m \u001b[0mstacktrace\u001b[0m\u001b[0;34m,\u001b[0m \u001b[0malert_text\u001b[0m\u001b[0;34m)\u001b[0m  \u001b[0;31m# type: ignore[call-arg]  # mypy is not smart enough here\u001b[0m\u001b[0;34m\u001b[0m\u001b[0;34m\u001b[0m\u001b[0m\n\u001b[0;32m--> 243\u001b[0;31m         \u001b[0;32mraise\u001b[0m \u001b[0mexception_class\u001b[0m\u001b[0;34m(\u001b[0m\u001b[0mmessage\u001b[0m\u001b[0;34m,\u001b[0m \u001b[0mscreen\u001b[0m\u001b[0;34m,\u001b[0m \u001b[0mstacktrace\u001b[0m\u001b[0;34m)\u001b[0m\u001b[0;34m\u001b[0m\u001b[0;34m\u001b[0m\u001b[0m\n\u001b[0m\u001b[1;32m    244\u001b[0m \u001b[0;34m\u001b[0m\u001b[0m\n\u001b[1;32m    245\u001b[0m     \u001b[0;32mdef\u001b[0m \u001b[0m_value_or_default\u001b[0m\u001b[0;34m(\u001b[0m\u001b[0mself\u001b[0m\u001b[0;34m,\u001b[0m \u001b[0mobj\u001b[0m\u001b[0;34m:\u001b[0m \u001b[0mMapping\u001b[0m\u001b[0;34m[\u001b[0m\u001b[0m_KT\u001b[0m\u001b[0;34m,\u001b[0m \u001b[0m_VT\u001b[0m\u001b[0;34m]\u001b[0m\u001b[0;34m,\u001b[0m \u001b[0mkey\u001b[0m\u001b[0;34m:\u001b[0m \u001b[0m_KT\u001b[0m\u001b[0;34m,\u001b[0m \u001b[0mdefault\u001b[0m\u001b[0;34m:\u001b[0m \u001b[0m_VT\u001b[0m\u001b[0;34m)\u001b[0m \u001b[0;34m->\u001b[0m \u001b[0m_VT\u001b[0m\u001b[0;34m:\u001b[0m\u001b[0;34m\u001b[0m\u001b[0;34m\u001b[0m\u001b[0m\n",
      "\u001b[0;31mJavascriptException\u001b[0m: Message: javascript error: Failed to execute 'scrollTo' on 'Window': The provided value is not of type 'ScrollToOptions'.\n  (Session info: chrome=95.0.4638.54)\nStacktrace:\n0   chromedriver                        0x00000001033fcc99 __gxx_personality_v0 + 579209\n1   chromedriver                        0x00000001033885f3 __gxx_personality_v0 + 102371\n2   chromedriver                        0x0000000102f4e288 chromedriver + 172680\n3   chromedriver                        0x0000000102f51101 chromedriver + 184577\n4   chromedriver                        0x0000000102f50f21 chromedriver + 184097\n5   chromedriver                        0x0000000102f51abd chromedriver + 187069\n6   chromedriver                        0x0000000102fb3ae3 chromedriver + 588515\n7   chromedriver                        0x0000000102fa0382 chromedriver + 508802\n8   chromedriver                        0x0000000102fb2eab chromedriver + 585387\n9   chromedriver                        0x0000000102fa0693 chromedriver + 509587\n10  chromedriver                        0x0000000102f76b7e chromedriver + 338814\n11  chromedriver                        0x0000000102f77ea5 chromedriver + 343717\n12  chromedriver                        0x00000001033b877f __gxx_personality_v0 + 299375\n13  chromedriver                        0x00000001033cf68a __gxx_personality_v0 + 393338\n14  chromedriver                        0x00000001033d58eb __gxx_personality_v0 + 418523\n15  chromedriver                        0x00000001033d0a2a __gxx_personality_v0 + 398362\n16  chromedriver                        0x00000001033ad34c __gxx_personality_v0 + 253244\n17  chromedriver                        0x00000001033ecc48 __gxx_personality_v0 + 513592\n18  chromedriver                        0x00000001033ecdd1 __gxx_personality_v0 + 513985\n19  chromedriver                        0x00000001034040c8 __gxx_personality_v0 + 608952\n20  libsystem_pthread.dylib             0x00007ff8180a1514 _pthread_start + 125\n21  libsystem_pthread.dylib             0x00007ff81809d02f thread_start + 15\n"
     ]
    }
   ],
   "source": [
    "driver.execute_script(\"window.scrollTo(document.body.scrollHeight, 0);\")"
   ]
  },
  {
   "cell_type": "code",
   "execution_count": null,
   "id": "c111856c-6626-402a-a779-d1c2781982bb",
   "metadata": {},
   "outputs": [],
   "source": [
    "pic = driver.find_elements(By.CLASS_NAME, 'v4dQwb')\n",
    "url = pic[1].find_elements(By.CLASS_NAME, 'n3VNCb')[0].get_attribute('src')\n",
    "url"
   ]
  },
  {
   "cell_type": "code",
   "execution_count": null,
   "id": "f20b387b-29ac-41c7-b192-6d028d6023c1",
   "metadata": {
    "tags": []
   },
   "outputs": [],
   "source": [
    "requests.get(url).content"
   ]
  },
  {
   "cell_type": "code",
   "execution_count": null,
   "id": "6b006441-78cd-4ef5-a9cc-4c4e37ef3b0b",
   "metadata": {},
   "outputs": [],
   "source": [
    "requests.get(url)"
   ]
  },
  {
   "cell_type": "code",
   "execution_count": null,
   "id": "2931f8e6-86b0-43f8-b3fa-d3979456a516",
   "metadata": {},
   "outputs": [],
   "source": [
    "import uuid\n",
    "filename = str(uuid.uuid4())\n",
    "filename"
   ]
  },
  {
   "cell_type": "code",
   "execution_count": null,
   "id": "3185358c-e1da-411a-b573-00bf493f8a65",
   "metadata": {},
   "outputs": [],
   "source": [
    "import random"
   ]
  },
  {
   "cell_type": "code",
   "execution_count": null,
   "id": "bd68a41e-a5c0-4a1c-8260-a413ead3e0d3",
   "metadata": {},
   "outputs": [],
   "source": [
    "IMG_NUM = 4\n",
    "random.sample(range(0, len(rg_i_elements)), IMG_NUM)"
   ]
  },
  {
   "cell_type": "code",
   "execution_count": 1,
   "id": "d14fe7d4-6eb2-4a6e-b83b-10eca1abb860",
   "metadata": {},
   "outputs": [
    {
     "data": {
      "text/plain": [
       "'this/that'"
      ]
     },
     "execution_count": 1,
     "metadata": {},
     "output_type": "execute_result"
    }
   ],
   "source": [
    "from os import path\n",
    "path.join('this', 'that')"
   ]
  },
  {
   "cell_type": "code",
   "execution_count": 2,
   "id": "8f0a1c6d-fa96-4c70-8b6c-7cdd5786c1d0",
   "metadata": {},
   "outputs": [
    {
     "data": {
      "text/plain": [
       "'/Users/jacobwiebe/PycharmProjects/seleniumgoogleimage'"
      ]
     },
     "execution_count": 2,
     "metadata": {},
     "output_type": "execute_result"
    }
   ],
   "source": [
    "import os\n",
    "os.getcwd()"
   ]
  },
  {
   "cell_type": "code",
   "execution_count": 7,
   "id": "e50c6974-9cf3-4019-b2e3-f9feb3cba829",
   "metadata": {},
   "outputs": [
    {
     "ename": "FileNotFoundError",
     "evalue": "[Errno 2] No such file or directory: '.\\\\downloads/test.txt'",
     "output_type": "error",
     "traceback": [
      "\u001b[0;31m---------------------------------------------------------------------------\u001b[0m",
      "\u001b[0;31mFileNotFoundError\u001b[0m                         Traceback (most recent call last)",
      "\u001b[0;32m/var/folders/ns/zx2rsk6s2xv9dz3j97ymqvkm0000gn/T/ipykernel_7798/2556669971.py\u001b[0m in \u001b[0;36m<module>\u001b[0;34m\u001b[0m\n\u001b[0;32m----> 1\u001b[0;31m \u001b[0;32mwith\u001b[0m \u001b[0mopen\u001b[0m\u001b[0;34m(\u001b[0m\u001b[0mpath\u001b[0m\u001b[0;34m.\u001b[0m\u001b[0mjoin\u001b[0m\u001b[0;34m(\u001b[0m\u001b[0;34m'.\\downloads'\u001b[0m\u001b[0;34m,\u001b[0m \u001b[0;34m'test.txt'\u001b[0m\u001b[0;34m)\u001b[0m\u001b[0;34m,\u001b[0m \u001b[0;34m'w'\u001b[0m\u001b[0;34m)\u001b[0m \u001b[0;32mas\u001b[0m \u001b[0mf\u001b[0m\u001b[0;34m:\u001b[0m\u001b[0;34m\u001b[0m\u001b[0;34m\u001b[0m\u001b[0m\n\u001b[0m\u001b[1;32m      2\u001b[0m     \u001b[0mf\u001b[0m\u001b[0;34m.\u001b[0m\u001b[0mwrite\u001b[0m\u001b[0;34m(\u001b[0m\u001b[0;34m'this is a test'\u001b[0m\u001b[0;34m)\u001b[0m\u001b[0;34m\u001b[0m\u001b[0;34m\u001b[0m\u001b[0m\n",
      "\u001b[0;31mFileNotFoundError\u001b[0m: [Errno 2] No such file or directory: '.\\\\downloads/test.txt'"
     ]
    }
   ],
   "source": [
    "with open(path.join('.\\downloads', 'test.txt'), 'w') as f:\n",
    "    f.write('this is a test')"
   ]
  },
  {
   "cell_type": "code",
   "execution_count": 31,
   "id": "bc687490-f1a7-46b9-8ca9-ee07011d7c4f",
   "metadata": {},
   "outputs": [
    {
     "data": {
      "text/plain": [
       "1.427666253696997"
      ]
     },
     "execution_count": 31,
     "metadata": {},
     "output_type": "execute_result"
    }
   ],
   "source": [
    "import random\n",
    "random.uniform(1, 2)"
   ]
  },
  {
   "cell_type": "code",
   "execution_count": null,
   "id": "72e9bac4-1f59-4853-9924-b1d09991d5b7",
   "metadata": {},
   "outputs": [],
   "source": []
  },
  {
   "cell_type": "code",
   "execution_count": null,
   "id": "fbaa6889-84e0-4e18-923c-a6d84fbe5be9",
   "metadata": {},
   "outputs": [],
   "source": []
  }
 ],
 "metadata": {
  "kernelspec": {
   "display_name": "Python 3 (ipykernel)",
   "language": "python",
   "name": "python3"
  },
  "language_info": {
   "codemirror_mode": {
    "name": "ipython",
    "version": 3
   },
   "file_extension": ".py",
   "mimetype": "text/x-python",
   "name": "python",
   "nbconvert_exporter": "python",
   "pygments_lexer": "ipython3",
   "version": "3.9.7"
  }
 },
 "nbformat": 4,
 "nbformat_minor": 5
}
