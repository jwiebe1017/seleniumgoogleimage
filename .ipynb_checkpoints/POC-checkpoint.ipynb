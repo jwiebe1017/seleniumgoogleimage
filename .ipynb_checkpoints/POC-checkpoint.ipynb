{
 "cells": [
  {
   "cell_type": "code",
   "execution_count": 2,
   "id": "aac09fc4-a636-4db4-8581-ce30dc1dcf1a",
   "metadata": {},
   "outputs": [],
   "source": [
    "from selenium import webdriver\n",
    "from webdriver_manager.chrome import ChromeDriverManager\n",
    "from selenium.webdriver.common.by import By"
   ]
  },
  {
   "cell_type": "code",
   "execution_count": 3,
   "id": "45570b66-4ea0-4966-8ea8-28028a08eedd",
   "metadata": {},
   "outputs": [
    {
     "name": "stderr",
     "output_type": "stream",
     "text": [
      "[WDM] - \n",
      "\n",
      "[WDM] - ====== WebDriver manager ======\n",
      "[WDM] - Current google-chrome version is 95.0.4638\n",
      "[WDM] - Get LATEST driver version for 95.0.4638\n",
      "[WDM] - Get LATEST driver version for 95.0.4638\n",
      "[WDM] - Trying to download new driver from https://chromedriver.storage.googleapis.com/95.0.4638.54/chromedriver_mac64.zip\n",
      "[WDM] - Driver has been saved in cache [/Users/jacobwiebe/.wdm/drivers/chromedriver/mac64/95.0.4638.54]\n",
      "/var/folders/ns/zx2rsk6s2xv9dz3j97ymqvkm0000gn/T/ipykernel_6485/3354897213.py:1: DeprecationWarning: executable_path has been deprecated, please pass in a Service object\n",
      "  driver = webdriver.Chrome(ChromeDriverManager().install())\n"
     ]
    }
   ],
   "source": [
    "driver = webdriver.Chrome(ChromeDriverManager().install())\n",
    "driver.get('https://www.google.com.sg/search?q=people+waving&source=lnms&tbm=isch&sa=X&ei=0eZEVbj3IJG5uATalICQAQ&ved=0CAcQ_AUoAQ&biw=939&bih=591')"
   ]
  },
  {
   "cell_type": "code",
   "execution_count": 4,
   "id": "667114f7-3fb7-40ac-b1af-103622d98f78",
   "metadata": {},
   "outputs": [],
   "source": [
    "imgs = [img.get_attribute('src') for img in driver.find_elements(By.XPATH, '//img')]"
   ]
  },
  {
   "cell_type": "code",
   "execution_count": 9,
   "id": "10b02372-864d-4250-9518-723219a8d33e",
   "metadata": {},
   "outputs": [],
   "source": [
    "rg_i_elements = driver.find_elements(By.CLASS_NAME, 'rg_i')\n"
   ]
  },
  {
   "cell_type": "code",
   "execution_count": 35,
   "id": "7d811c34-7834-47cd-ae58-f2161d88f21e",
   "metadata": {},
   "outputs": [
    {
     "data": {
      "text/plain": [
       "48"
      ]
     },
     "execution_count": 35,
     "metadata": {},
     "output_type": "execute_result"
    }
   ],
   "source": [
    "len(rg_i_elements)"
   ]
  },
  {
   "cell_type": "code",
   "execution_count": 34,
   "id": "9b7a37f5-423d-4041-954b-91af601e9a41",
   "metadata": {},
   "outputs": [],
   "source": [
    "rg_i_elements[10].click()"
   ]
  },
  {
   "cell_type": "code",
   "execution_count": 37,
   "id": "c111856c-6626-402a-a779-d1c2781982bb",
   "metadata": {},
   "outputs": [
    {
     "data": {
      "text/plain": [
       "'https://previews.123rf.com/images/dolgachov/dolgachov1702/dolgachov170202067/71674944-international-group-of-happy-people-waving-hand.jpg'"
      ]
     },
     "execution_count": 37,
     "metadata": {},
     "output_type": "execute_result"
    }
   ],
   "source": [
    "pic = driver.find_elements(By.CLASS_NAME, 'v4dQwb')\n",
    "pic[1].find_elements(By.CLASS_NAME, 'n3VNCb')[0].get_attribute('src')"
   ]
  },
  {
   "cell_type": "code",
   "execution_count": 16,
   "id": "f20b387b-29ac-41c7-b192-6d028d6023c1",
   "metadata": {},
   "outputs": [
    {
     "data": {
      "text/plain": [
       "'data:image/jpeg;base64,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'"
      ]
     },
     "execution_count": 16,
     "metadata": {},
     "output_type": "execute_result"
    }
   ],
   "source": [
    "imgs[0]"
   ]
  },
  {
   "cell_type": "code",
   "execution_count": 15,
   "id": "761cc33f-ac3b-4884-9b38-0c42e21bda08",
   "metadata": {},
   "outputs": [
    {
     "data": {
      "text/plain": [
       "[]"
      ]
     },
     "execution_count": 15,
     "metadata": {},
     "output_type": "execute_result"
    }
   ],
   "source": [
    "driver.find_elements(By.XPATH, 'href')"
   ]
  },
  {
   "cell_type": "code",
   "execution_count": 10,
   "id": "3d2cced7-236f-4e5e-8392-b20cea8647e3",
   "metadata": {},
   "outputs": [
    {
     "name": "stdout",
     "output_type": "stream",
     "text": [
      "Help on class By in module selenium.webdriver.common.by:\n",
      "\n",
      "class By(builtins.object)\n",
      " |  Set of supported locator strategies.\n",
      " |  \n",
      " |  Data descriptors defined here:\n",
      " |  \n",
      " |  __dict__\n",
      " |      dictionary for instance variables (if defined)\n",
      " |  \n",
      " |  __weakref__\n",
      " |      list of weak references to the object (if defined)\n",
      " |  \n",
      " |  ----------------------------------------------------------------------\n",
      " |  Data and other attributes defined here:\n",
      " |  \n",
      " |  CLASS_NAME = 'class name'\n",
      " |  \n",
      " |  CSS_SELECTOR = 'css selector'\n",
      " |  \n",
      " |  ID = 'id'\n",
      " |  \n",
      " |  LINK_TEXT = 'link text'\n",
      " |  \n",
      " |  NAME = 'name'\n",
      " |  \n",
      " |  PARTIAL_LINK_TEXT = 'partial link text'\n",
      " |  \n",
      " |  TAG_NAME = 'tag name'\n",
      " |  \n",
      " |  XPATH = 'xpath'\n",
      "\n"
     ]
    }
   ],
   "source": [
    "help(By)"
   ]
  },
  {
   "cell_type": "code",
   "execution_count": null,
   "id": "2931f8e6-86b0-43f8-b3fa-d3979456a516",
   "metadata": {},
   "outputs": [],
   "source": []
  }
 ],
 "metadata": {
  "kernelspec": {
   "display_name": "Python 3 (ipykernel)",
   "language": "python",
   "name": "python3"
  },
  "language_info": {
   "codemirror_mode": {
    "name": "ipython",
    "version": 3
   },
   "file_extension": ".py",
   "mimetype": "text/x-python",
   "name": "python",
   "nbconvert_exporter": "python",
   "pygments_lexer": "ipython3",
   "version": "3.9.7"
  }
 },
 "nbformat": 4,
 "nbformat_minor": 5
}
